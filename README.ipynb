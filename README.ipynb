{
 "cells": [
  {
   "cell_type": "markdown",
   "metadata": {},
   "source": [
    "\n",
    "# Lab Instrumentation Projects\n",
    "\n",
    "This is a collection of Laboratory Instrumentation + Experimental Statistics notebooks for \n",
    "PHYS 230 at [UIndy](https://www.uindy.edu).\n",
    "\n",
    " 1. Project 1 (Introduction to Everything!):\n",
    "\t* Lab 1 [Arduino as a laboratory interface](proj1/Arduino%20as%20a%20Laboratory%20Interface.ipynb)\n",
    "\t* Stats 1 [Normal Distribution and Estimation of Parameters.ipynb](proj1/Normal%20Distribution%20and%20Estimation%20of%20Parameters.ipynb)\n",
    "    \n",
    "    \n",
    " 2. Project 2 (Amplify That)\n",
    "\t* Lab 2 [Transistors and Amplifiers](proj2/Transistors%20and%20Amplifiers.ipynb)\n",
    "\t* Stats 2 [PMFs and Friends](proj2/PMFs,%20PDFs,%20CDFs%20and%20All%20That.ipynb)\n",
    "    \n",
    "    \n",
    "\n",
    " 3. Project 3 (Calculus, Filtering and Modeling)\n",
    "\t* Lab 3 [Doing Math with Electronics](proj3/Calculus%20and%20Filtering%20with%20Op%20Amps.ipynb)\n",
    "\t* Stats 3 [Generating RNGs](proj3/Modeling%20Distributions%20and%20RNGs.ipynb)\n",
    "    \n",
    "    \n",
    "\n",
    " 4. Project 4 (Can we talk?)\n",
    "\t* Lab 4 [Communication](proj4/Communication.ipynb)\n",
    "\t* Stats 4 [Hypothesis Testing](proj4/Hypothesis%20Testing.ipynb)\n",
    "    \n",
    "    \n",
    "\n",
    " 5. Project 5 (Counting)\n",
    "\t* Lab 5 [Counting Experiments](proj5/Counting%20Experiments.ipynb)\n",
    "\t* Stats 5 [Poisson Distribution](proj5/Poisson%20Distribution.ipynb)\n",
    "    \n",
    "    \n",
    "\n",
    " 6. Project 6 (PSoC: Frequency Counting and Time Series)\n",
    "\t* Lab 6 [Intro to PSoC](proj6/Analog%20Meets%20Digital.ipynb)\n",
    "\t* Stats 6 [Time Series](proj6/Time%20Series%20Analysis.ipynb)\n",
    "    \n",
    "    \n",
    "\n",
    " 7. Project 7 (PID Control and Parameter Estimation)\n",
    "\t* Lab 7 [PID Control](proj7/PID%20Control.ipynb)\n",
    "\t* Stats 7 [Parameter Estimation](proj7/Parameter%20Estimation.ipynb)\n",
    "\n",
    "\n"
   ]
  },
  {
   "cell_type": "code",
   "execution_count": null,
   "metadata": {},
   "outputs": [],
   "source": []
  }
 ],
 "metadata": {
  "kernelspec": {
   "display_name": "Python 3",
   "language": "python",
   "name": "python3"
  },
  "language_info": {
   "codemirror_mode": {
    "name": "ipython",
    "version": 3
   },
   "file_extension": ".py",
   "mimetype": "text/x-python",
   "name": "python",
   "nbconvert_exporter": "python",
   "pygments_lexer": "ipython3",
   "version": "3.6.5"
  }
 },
 "nbformat": 4,
 "nbformat_minor": 2
}
