{
 "cells": [
  {
   "cell_type": "markdown",
   "metadata": {},
   "source": [
    "# Project 2: Transistors and Amplifiers\n",
    "\n",
    "This project will introduce two basic techniques using currents and voltages to control currents and voltages. Why would you want to do that? It turns out that many times the physical system we're workign with is directly compatable with the tools we have to control or measure that system. For example, suppose we want to control the temperature of an experiment. It turns out there are materials with properties that depend on temperature (e.g., resistance, band gap voltage, and so on). If we can somehow turn those properties into electrical signals, we can use those signals to infer the temperature of the system. The bad news is that those signals are usually *not* a voltage from 0-5V that can simply be connected to the Arduino for measurement. We often (most of the time!) need to process those electrical signals in order to get somethign that an Arduino can measure. That's where amplifiers can be extremely handy. A transistor is, sort of, the worlds simplest example of a crude, but effective, amplifier. *So* we'll learn how a transistor works, and then we'll jump straight to an operational aplifier (which often contains many transistors).\n",
    "\n",
    "## The NPN Biploar Junction Transistor (BJT)\n",
    "\n",
    "The schematic symbol for an NPN [Bipolar Junction Transistor (BJT)](https://en.wikipedia.org/wiki/Bipolar_junction_transistor) looks like this:\n",
    "\n",
    "![BJT](./proj2-npn-trans-only.png)\n",
    "\n",
    "The pins are called 1) Emitter, 2) Base, 3) Collector. You can generally think of the Base-Emitter (BE) as a diode (hence the little diode symbol embedded in the picture). The BE diode obeys the Shockley equation over the range of currents and voltages we're goign to be using. The magic comes when we look at the behavior of the CE connection. It turns out the current through the CE junction is *proportional* to the current through the BE junction. The proportionality constant is called the *current* *gain* $\\beta$.\n",
    "\n",
    "$$ I_{ce} = \\beta I_{be} $$\n",
    "\n",
    "What's the use? Because $\\beta$ can be a large number (think 20 or 50) a small change in $I_{be}$ can produce a large change in $I_{ce}$ which means signals can be *amplified*.\n",
    "\n",
    "The first thing we need to do is to set up a transistor to mesure $\\beta$ and see how that works. Set up the following circuit. Suppose the max current through the BE junction should be $1\\ {\\rm mA}$ and the max current through the CE junction should be $25\\ {\\rm mA}$. How big should \n",
    "\n",
    "![NPN + Arduino](./proj2-npn-trans-arduino.png)\n",
    "\n"
   ]
  },
  {
   "cell_type": "code",
   "execution_count": null,
   "metadata": {},
   "outputs": [],
   "source": []
  }
 ],
 "metadata": {
  "kernelspec": {
   "display_name": "Python 3",
   "language": "python",
   "name": "python3"
  },
  "language_info": {
   "codemirror_mode": {
    "name": "ipython",
    "version": 3
   },
   "file_extension": ".py",
   "mimetype": "text/x-python",
   "name": "python",
   "nbconvert_exporter": "python",
   "pygments_lexer": "ipython3",
   "version": "3.6.3"
  }
 },
 "nbformat": 4,
 "nbformat_minor": 2
}
