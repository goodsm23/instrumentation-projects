{
 "cells": [
  {
   "cell_type": "code",
   "execution_count": 1,
   "metadata": {},
   "outputs": [],
   "source": [
    "import pandas as pd\n",
    "import numpy as np\n",
    "import matplotlib.pyplot as pl\n",
    "from scipy.optimize import curve_fit\n",
    "\n",
    "%matplotlib inline\n"
   ]
  },
  {
   "cell_type": "markdown",
   "metadata": {},
   "source": [
    "# PMFs, PDFs, CDFs and All That\n",
    "\n",
    "Alphabet soup? Kinda. But these are the terms that are used in the business, so get used to it!\n",
    "\n",
    "When dealing with random events and measurements it's important to be clear about the kinds of things that can happen and their relative likelihood. These concepts (PMF, PDF, CDF) help to understand and clarify the relationships between the many different ways things can be \"random\".\n",
    "\n",
    "Let's start with the simplest cases: discrete events. This would be things like the roll of a die, or the flipping of a coin. In each case the outcome is one of a countable set of possible states (e.g., heads, tails, 1, 2, ... 6). Each of these outcomes may have a different probability. The distribution of probabilities among the outcomes is the \"Probability Mass Function (PMF)\".\n",
    "\n"
   ]
  },
  {
   "cell_type": "code",
   "execution_count": null,
   "metadata": {},
   "outputs": [],
   "source": []
  }
 ],
 "metadata": {
  "kernelspec": {
   "display_name": "Python 3",
   "language": "python",
   "name": "python3"
  },
  "language_info": {
   "codemirror_mode": {
    "name": "ipython",
    "version": 3
   },
   "file_extension": ".py",
   "mimetype": "text/x-python",
   "name": "python",
   "nbconvert_exporter": "python",
   "pygments_lexer": "ipython3",
   "version": "3.6.2"
  }
 },
 "nbformat": 4,
 "nbformat_minor": 2
}
