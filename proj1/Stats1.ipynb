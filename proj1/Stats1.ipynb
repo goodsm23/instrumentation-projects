{
 "cells": [
  {
   "cell_type": "markdown",
   "metadata": {},
   "source": [
    "# Intro to the Normal Distribution and fitting data using Python\n",
    "\n",
    "This is a \"jupyter notebook\". It's a web based computational tool used by studnets and professionals alike to enable both exporatory data analysis as well as communication and documentation of what I call \"computational narratives\". Each project in this course will require a report in the form of a \"laboratory narrative\" including the physical system you investigated, the circuits and instrumentation you used to collect the data along with any statistical or mathematical analysis you performed.\n",
    "\n",
    "The so called \"Normal\" (or Gaussian) distribution is a great model for many actual distributions in real life. There is an underlying mathematical reason for this (we'll learn later, called the \"central limit theorem\"), but for now it's important to simply get a handle on the concept. You've probably seen or at least heard of a normal distribution before (also sometimes called a \"bell curve\"). In the cells below we'll use python to a) explore the properties of normal distributions and b) learn some of the python libraries that are useful for managing, manipulating and visualizing data.\n",
    "\n",
    "The cell immediately following this one has the code:\n",
    "\n",
    "    import pandas as pd\n",
    "    import numpy as np\n",
    "    import matplotlib.pyplot as pl\n",
    "    from scipy.optimize import curve_fit\n",
    "    from scipy.stats import gaussian_kde\n",
    "\n",
    "    %matplotlib inline\n",
    "    \n",
    "    print(\"You did it!\")\n",
    "\n",
    "If you put the cursor into this cell, hold the \"shift key\" and type \"enter\" you will \"execute\" this cell. Afterwards you should see the words \"You did it!\" appear in the output space below the cell. The code in this cell imports three important libraries (pandas, numpy and matplotlib) and two functions (curve_fit and gaussian_kde) that we'll be using in this example notebook. It also tells the graphing library (matplotlib) to include the graphs it creates within the notebook itself. Each week we may be using different libraries and functions to perform the analysis we need. You can learn more about these on the corresponding websites ([pandas](https://pandas.pydata.org), [numpy](http://www.numpy.org), [matplotlib](https://matplotlib.org), [curve_fit](https://docs.scipy.org/doc/scipy/reference/generated/scipy.optimize.curve_fit.html), [guassian_kde](https://docs.scipy.org/doc/scipy-0.15.1/reference/generated/scipy.stats.gaussian_kde.html)).\n",
    "\n",
    "Each cell of the notebook can contain either text (really [markdown](https://en.wikipedia.org/wiki/Markdown)) including figures and equations) or code ([python](https://www.python.org) in our case). You can tell which type of cell by the pop-up below the main menu, which will show \"markdown\" or \"code\".\n",
    "\n",
    "Finally there's a great reference text on statistics that uses python. It's Allen B. Downey's [\"Think Stats\"](http://greenteapress.com/wp/think-stats-2e/) book. We're not going to use a lot from this text, particularly not the *software*, but the description and explainations are quite good. The software is also good, but I'd rather have you learn how to use the standard python libraries than the simplified versions used in this text. The text is freely available on the greentree press web site as a pdf, but you can get a paper version from [amazon.com](http://www.amazon.com/gp/product/1491907339/ref=as_li_tl?ie=UTF8&camp=1789&creative=9325&creativeASIN=1491907339&linkCode=as2&tag=greenteapre01-20&linkId=O7WYM6H6YBYUFNWU).\n"
   ]
  },
  {
   "cell_type": "code",
   "execution_count": 1,
   "metadata": {},
   "outputs": [
    {
     "name": "stdout",
     "output_type": "stream",
     "text": [
      "You did it!\n"
     ]
    }
   ],
   "source": [
    "import pandas as pd\n",
    "import numpy as np\n",
    "import matplotlib.pyplot as pl\n",
    "from scipy.optimize import curve_fit\n",
    "from scipy.stats import gaussian_kde\n",
    "\n",
    "%matplotlib inline\n",
    "\n",
    "print(\"You did it!\")"
   ]
  },
  {
   "cell_type": "markdown",
   "metadata": {},
   "source": [
    "# Getting Help on anything\n",
    "\n",
    "You can also get help on anything (literally!) by entering the name of the thing into a code cell followed by a question mark \"?\". When you \"exectute\" the cell, you'll get documetnation about the \"thing\" (if it exists) for free! Try it."
   ]
  },
  {
   "cell_type": "code",
   "execution_count": 2,
   "metadata": {},
   "outputs": [],
   "source": [
    "curve_fit?"
   ]
  },
  {
   "cell_type": "markdown",
   "metadata": {},
   "source": [
    "# Getting numbers that have a certain distribution\n",
    "\n",
    "Built into the numpy library are a large collection of random number generators that produce collections of random numbers. Below is an example of pulling 1000 random numbers from a normal distribution with a mean of $\\mu=3.0$ and a standard deviation of $\\sigma=0.5$. See how easy it is! We use the 'matplotlib' function 'plot' to create a simple histogram of the generated numbers."
   ]
  },
  {
   "cell_type": "code",
   "execution_count": 3,
   "metadata": {},
   "outputs": [
    {
     "data": {
      "image/png": "[encoded data removed]",
      "text/plain": [
       "<matplotlib.figure.Figure at 0x1104bf668>"
      ]
     },
     "metadata": {},
     "output_type": "display_data"
    }
   ],
   "source": [
    "mu = 3.0\n",
    "std = 0.5\n",
    "N=1000\n",
    "\n",
    "xs = np.random.normal(loc=mu, scale=std, size=N)\n",
    "\n",
    "res=pl.hist(xs,bins=20)"
   ]
  },
  {
   "cell_type": "markdown",
   "metadata": {},
   "source": [
    "# Getting answers without calculus\n",
    "\n",
    "You can use calculus to define what a distribution means very precisely like so:\n",
    "\n",
    "$$ P(x) = \\frac{1}{\\sqrt{2\\pi \\sigma^2}} e^{-\\frac{(x-\\mu)^2}{2\\sigma^2}} $$\n",
    "\n",
    "Where $P(x)$ is the probability *density* of measuring $x$ given that it comes from a normal distribution with a mean $\\mu$ and a standard deviation of $\\sigma$. In other words if $x$ is a distance, measured in meters, it would be the probability *per* *meter* of measuring a particular value for $x$. In order to actually calcuate a real probability we need to *integrate* $P(x)$ over the domain of $x$ we're interested in. Of course this requires calculus if we want to do it analytically. This is sometimes difficult, and other times it's impossible! However, we can also carry out this kind of analysis numerically, which will be our general approach in this class. How? Let's try it!\n",
    "\n",
    "Suppose we know $x$ comes from a distribution with a mean of $\\mu=3$ and a standard deviation of $\\sigma=0.5$ (as the above graph demonstrates). How can we answer the question: \"What's the chance of having $x>4$\"? Easy! We simply *count* the number of $x$s whose value is greater than four and divide by the total number we \"measured\"."
   ]
  },
  {
   "cell_type": "code",
   "execution_count": 4,
   "metadata": {},
   "outputs": [
    {
     "name": "stdout",
     "output_type": "stream",
     "text": [
      "[ 4.00071512  4.06276482  4.0952823   4.3828011   4.02009005  4.03839676\n",
      "  4.24539485  4.01013842  4.27031373  4.02718776  4.14064017  4.12617494\n",
      "  4.17617269  4.10061544  4.11179855  4.12175255  4.56065836  4.06498364\n",
      "  4.10255196  4.06123016  4.27418695  4.15638011  4.10722386  4.40531071\n",
      "  4.21984257  4.44334367]\n",
      "26\n",
      "Probability x>4 =  0.026\n",
      "Probability x<2 =  0.021\n",
      "Probability x>4 or x<2 = 0.047\n"
     ]
    }
   ],
   "source": [
    "#\n",
    "# though the spelling is a bit arcane, it's easy to *do*\n",
    "#\n",
    "# here we print the values of x from the array of N elemeents whose value is greater than 4\n",
    "#\n",
    "\n",
    "print(xs[xs>4])\n",
    "\n",
    "#\n",
    "# It turns out there are only a handful (compared to N)\n",
    "#\n",
    "\n",
    "print(len(xs[xs>4]))\n",
    "\n",
    "#\n",
    "# What's the probability?\n",
    "#\n",
    "\n",
    "print(\"Probability x>4 = \", len(xs[xs>4])/N)\n",
    "\n",
    "print(\"Probability x<2 = \", len(xs[xs<2])/N)\n",
    "\n",
    "print(\"Probability x>4 or x<2 =\", len(xs[xs>4])/N + len(xs[xs<2])/N)"
   ]
  },
  {
   "cell_type": "markdown",
   "metadata": {},
   "source": [
    "# Normal plots\n",
    "\n",
    "One easy way to visualize the \"normality\" of a set of data is to make a [\"Normal Plot\"](https://en.wikipedia.org/wiki/Normal_probability_plot). These are described nicely in [Downey's](http://greenteapress.com/thinkstats2/html/thinkstats2006.html#sec51) book. The recipe he describes is carried out below using standard library functions."
   ]
  },
  {
   "cell_type": "code",
   "execution_count": 5,
   "metadata": {},
   "outputs": [
    {
     "data": {
      "text/plain": [
       "[<matplotlib.lines.Line2D at 0x11054f2e8>]"
      ]
     },
     "execution_count": 5,
     "metadata": {},
     "output_type": "execute_result"
    },
    {
     "data": {
      "image/png": "[encoded data removed]",
      "text/plain": [
       "<matplotlib.figure.Figure at 0x110557128>"
      ]
     },
     "metadata": {},
     "output_type": "display_data"
    }
   ],
   "source": [
    "xs = np.array(sorted(xs)) # sort the sample values\n",
    "zs = np.array(sorted(np.random.normal(loc=0, scale=1.0, size=N))) # generate an equal sized sorted standard normal\n",
    "pl.plot(zs,xs,'b.')           # plot the data\n",
    "pl.plot(zs, zs*std + mu,'r-') # plot the expected straight line"
   ]
  },
  {
   "cell_type": "markdown",
   "metadata": {},
   "source": [
    "# Estimating parameters of a model\n",
    "\n",
    "So the straight line above is the *expected* behavior assuming the data is actually drawn from a normal distribtion, and it appears to behave pretty much as expected, especially in the middle. However it's sometimes useful to extract the model parameters directly from the data. This process is called \"curve fitting\" (since its often used to find the curve that corresponds most closely to the data). We'll spend a lot of time on learning how this work over the rest of the course, but since we need to be able to do this now, here's a simple example of a linear fit to illustrate how it's done. Note that the fit parameters $m$ and $b$ also have corresponding uncertainties $dm$ and $db$. We'll be digging into the meaning and relevance of the uncertainties as we acquire more data to work with in later projects."
   ]
  },
  {
   "cell_type": "code",
   "execution_count": 6,
   "metadata": {},
   "outputs": [
    {
     "name": "stdout",
     "output_type": "stream",
     "text": [
      "Slope = 0.496 +/- 0.001\n",
      "Intercept = 3.040 +/- 0.001\n"
     ]
    },
    {
     "data": {
      "text/plain": [
       "<matplotlib.legend.Legend at 0x11067cd30>"
      ]
     },
     "execution_count": 6,
     "metadata": {},
     "output_type": "execute_result"
    },
    {
     "data": {
      "image/png": "[encoded data removed]",
      "text/plain": [
       "<matplotlib.figure.Figure at 0x110624978>"
      ]
     },
     "metadata": {},
     "output_type": "display_data"
    }
   ],
   "source": [
    "def fit_linear(x, m, b):\n",
    "    return m*x+b\n",
    "\n",
    "par, cov = curve_fit(fit_linear, zs, xs)\n",
    "m, b = par\n",
    "dm, db = np.sqrt(np.diag(cov))\n",
    "\n",
    "print(\"Slope = {0:.3f} +/- {1:.3f}\".format(m, dm))\n",
    "print(\"Intercept = {0:.3f} +/- {1:.3f}\".format(b,db))\n",
    "\n",
    "pl.plot(zs,xs,'b.', label='data')           # plot the data\n",
    "pl.plot(zs, zs*std + mu,'r-', label='expected') # plot the expected straight line\n",
    "pl.plot(zs, fit_linear(zs, m, b), 'g--.', label='fit')\n",
    "pl.legend()"
   ]
  },
  {
   "cell_type": "markdown",
   "metadata": {},
   "source": [
    "So, evidenlty the \"fit\" also matches the expectation pretty well since you can barely tell the difference between the dashed green line (fit) and the red line (expected).\n",
    "\n",
    "# Exercises\n",
    "\n",
    "Exercise 1: Create a distribution of 10,000 random numbers drawn from a normal distribution with a mean of $\\mu=25$ and a standard deviation of $\\sigma=6$. Draw the normal plot for this distribution and compare it to the expected normal plot for these parameters. Using these random numbers estimate the probability that any single random number drawn from such a distribution will be greater than 35 without using calculus. (Bonus: What do you get if you *do* use calculus?) Explain, in your own words, what this means in a practical sense.\n",
    "\n",
    "Exercise 2: Fit the data you collect in [project 1](./Project%201.ipynb) to some kind of a straight line (see model linearization below). Explain how you manipulated the data so that it was suscpeptible to a \"straight line\" analysis. We're going to find out that the simple \"straight line\" analysis is not very satisfactory in this case. A better model includes an internal resistance term from the diode itself. All of this is descibed below.\n",
    "\n",
    "First start with the Shockley model:\n",
    "\n",
    "$$ I = I_o (e^{\\frac{\\eta q V_d}{k_b T}}-1) $$\n",
    "\n",
    "Notice that we're in a domain where $\\eta q V_d$ is much greater than $k_b T$, so the $-1$ in parenthesis is negligable compared to the exponential. So our simplifed ideal diode model would be:\n",
    "\n",
    "$$ I \\approx I_o e^{\\frac{\\eta q V_d}{k_b T}} $$\n",
    "\n",
    "Now, solve this for $V_d$ as a function of $I$:\n",
    "\n",
    "$$ V_d = \\frac{k_b T}{\\eta q} \\ln(I/I_o)$$\n",
    "\n",
    "In this form, you can linearize this equation by defining:\n",
    "\n",
    "$$ A=\\frac{k_b T}{\\eta q}$$\n",
    "\n",
    "$$ x = \\ln(I) $$\n",
    "\n",
    "and\n",
    "\n",
    "$$B = -A \\ln(I_o) $$\n",
    "\n",
    "which gives:\n",
    "\n",
    "$$ V_d = A x + B $$\n",
    "\n",
    "an obvious linear model! You can use this to fit your data using a python model like so:\n",
    "\n",
    "    def linear_model(x, A, B):\n",
    "        return A*x+B\n",
    "        \n",
    "Use the `curve_fit` function, the data you collected, and this linear model to estimate values of $A$ and $B$. How does the model look? Does it fit the data well? Do the values you get for $A$ and $B$ seem reasonable? How can you tell?\n",
    "\n",
    "Unless you're very lucky, the linear fit probably didn't work that well. Most folks will see a much better fit by including an internal resistance term in their model. Let's work that out. If you add a term for the internal resistance ($r$) of the diode itself:\n",
    "\n",
    "$$ V_{ext} = V_d + Ir = \\frac{k_b T}{\\eta q} \\ln(I/I_o) + Ir $$\n",
    "\n",
    "Note that the factor in front of the natural log is a constant, as is $r$, the internal resistance. We can combine all those constants into a single parameter $A$ and write this as:\n",
    "\n",
    "$$ V_{ext} = A \\ln(I/I_o) + I r $$\n",
    "\n",
    "Finally it turns out that I_o is such a numericaly small value some folks run into numerical trouble using this model. Note that this is equivalent to:\n",
    "\n",
    "$$ V_{ext} = A \\ln(I) + B + I C $$\n",
    "\n",
    "where $C$ is just the internal resistance\n",
    "\n",
    "$$C = r$$\n",
    "\n",
    "and $B$ is related to $A$ and the natural log of $I_o$>\n",
    "\n",
    "$$B = -A \\ln(I_o) $$\n",
    "\n",
    "To avoid this numerical problem, please fit your data using the \"$A,B,C$\" model. \n",
    "\n",
    "    def internal_R_model(I, A, B, C):\n",
    "        return A*np.log(I) + C*I + B\n",
    "\n",
    "Use the `curve_fit` function and the data you collected to estimate values of these three parameters along with their estimated uncertainty. Once you have $A$, $B$ and $C$ you can work backwards to find $I_o$ and $\\eta$ as well.\n"
   ]
  },
  {
   "cell_type": "code",
   "execution_count": null,
   "metadata": {},
   "outputs": [],
   "source": []
  }
 ],
 "metadata": {
  "kernelspec": {
   "display_name": "Python 3",
   "language": "python",
   "name": "python3"
  },
  "language_info": {
   "codemirror_mode": {
    "name": "ipython",
    "version": 3
   },
   "file_extension": ".py",
   "mimetype": "text/x-python",
   "name": "python",
   "nbconvert_exporter": "python",
   "pygments_lexer": "ipython3",
   "version": "3.6.2"
  }
 },
 "nbformat": 4,
 "nbformat_minor": 2
}
