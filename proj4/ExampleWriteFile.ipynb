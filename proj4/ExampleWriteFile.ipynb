{
 "cells": [
  {
   "cell_type": "code",
   "execution_count": 1,
   "metadata": {},
   "outputs": [],
   "source": [
    "x = ['Joe','Sue','Sally','Christian','Sam','Bill','Ted']\n"
   ]
  },
  {
   "cell_type": "code",
   "execution_count": 2,
   "metadata": {},
   "outputs": [
    {
     "name": "stdout",
     "output_type": "stream",
     "text": [
      "Joe\n",
      "['Joe']\n",
      "Sue\n",
      "['Joe', 'Sue']\n",
      "Sally\n",
      "['Joe', 'Sue', 'Sally']\n",
      "Christian\n",
      "['Joe', 'Sue', 'Sally', 'Christian']\n",
      "Sam\n",
      "['Joe', 'Sue', 'Sally', 'Christian', 'Sam']\n",
      "Bill\n",
      "['Joe', 'Sue', 'Sally', 'Christian', 'Sam', 'Bill']\n",
      "Ted\n",
      "['Joe', 'Sue', 'Sally', 'Christian', 'Sam', 'Bill', 'Ted']\n"
     ]
    }
   ],
   "source": [
    "y=[]\n",
    "\n",
    "for s in x:\n",
    "    print(s)\n",
    "    y.append(s)\n",
    "    print(y)\n",
    "  "
   ]
  },
  {
   "cell_type": "code",
   "execution_count": 3,
   "metadata": {},
   "outputs": [],
   "source": [
    "f=open('data.csv','w')"
   ]
  },
  {
   "cell_type": "code",
   "execution_count": 4,
   "metadata": {},
   "outputs": [],
   "source": [
    "for s in y:\n",
    "    f.write(s + '\\n')\n",
    "\n",
    "f.close()\n"
   ]
  },
  {
   "cell_type": "code",
   "execution_count": null,
   "metadata": {},
   "outputs": [],
   "source": []
  }
 ],
 "metadata": {
  "kernelspec": {
   "display_name": "Python 3",
   "language": "python",
   "name": "python3"
  },
  "language_info": {
   "codemirror_mode": {
    "name": "ipython",
    "version": 3
   },
   "file_extension": ".py",
   "mimetype": "text/x-python",
   "name": "python",
   "nbconvert_exporter": "python",
   "pygments_lexer": "ipython3",
   "version": "3.6.5"
  }
 },
 "nbformat": 4,
 "nbformat_minor": 2
}
