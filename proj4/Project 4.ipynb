{
 "cells": [
  {
   "cell_type": "markdown",
   "metadata": {},
   "source": [
    "# Communication, RS-232, TCP/IP ${\\rm i^2c}$ and all that. \n",
    "\n",
    "## (Controlling an interface remotely with software).\n",
    "\n",
    "Microcontrollers are great for collecting data, controller motors or power sources, but when it comes to managing very complex tasks, or large amounts of data they are not optimal. For isolated systems one solution to this problem is to store data to non-volitile memory (e.g., SD card) and recover the data later for analysis. However often we can connect the microcontroller to a more sophisticated system to manage and retrieve data in real time.\n",
    "\n",
    "In order to accomplish this you need a) A communication channel of some kind and b) A protocol to send and receive messages. This week we'll explore a couple of different channels (direct wired serial communication, RS-232) and a form of network communication using WiFi (TCP/IP over WiFi). \n",
    "\n",
    "## RS-232\n",
    "\n",
    "RS-232 is a three wire serial communication standard designed to provide easy transfer of data between two devices such as a computer and a \"dumb terminal (keyboard/screen)\" or between two computers. Each endpoint has a minimum of three wires: Transmit (Tx), Receive (Rx) and Ground (Gnd). There are some additional \"handshaking\" wires that can be used when one device is slower than the other and needs to indicate that it's not prepared for new communication (e.g., Data Set Ready (DTR), Ready To Send (RTS), etc.). The good news is that most devices can work well at useful speeds with only three wires. See Fig. 1 for a typical setup:\n",
    "\n"
   ]
  },
  {
   "cell_type": "code",
   "execution_count": null,
   "metadata": {},
   "outputs": [],
   "source": []
  }
 ],
 "metadata": {
  "kernelspec": {
   "display_name": "Python 3",
   "language": "python",
   "name": "python3"
  },
  "language_info": {
   "codemirror_mode": {
    "name": "ipython",
    "version": 3
   },
   "file_extension": ".py",
   "mimetype": "text/x-python",
   "name": "python",
   "nbconvert_exporter": "python",
   "pygments_lexer": "ipython3",
   "version": "3.6.2"
  }
 },
 "nbformat": 4,
 "nbformat_minor": 2
}
