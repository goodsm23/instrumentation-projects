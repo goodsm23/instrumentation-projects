{
 "cells": [
  {
   "cell_type": "markdown",
   "metadata": {},
   "source": [
    "# Communication, RS-232, i2c and all that. \n",
    "\n",
    "## (Controlling an interface remotely with software).\n",
    "\n",
    "Microcontrollers are great for collecting data, controller motors or power sources, but when it comes to managing very complex tasks, or large amounts of data they are not optimal. For isolated systems one solution to this problem is to store data to non-volitile memory (e.g., SD card) and recover the data later for analysis. However often we can connect the microcontroller to a more sophisticated system to manage and retrieve data in real time."
   ]
  },
  {
   "cell_type": "code",
   "execution_count": null,
   "metadata": {},
   "outputs": [],
   "source": []
  }
 ],
 "metadata": {
  "kernelspec": {
   "display_name": "Python 3",
   "language": "python",
   "name": "python3"
  },
  "language_info": {
   "codemirror_mode": {
    "name": "ipython",
    "version": 3
   },
   "file_extension": ".py",
   "mimetype": "text/x-python",
   "name": "python",
   "nbconvert_exporter": "python",
   "pygments_lexer": "ipython3",
   "version": "3.6.2"
  }
 },
 "nbformat": 4,
 "nbformat_minor": 2
}
