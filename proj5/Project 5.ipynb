{
 "cells": [
  {
   "cell_type": "markdown",
   "metadata": {},
   "source": [
    "# Counting Experiments, Interrupts\n",
    "\n",
    "In this project we'll explore the practical aspects of several types of \"counting\" experiments.\n",
    "\n",
    "One of the most common scenarios involves some kind of event that occurs periodically\n",
    "that you'd like to capture. A simple example of this is the detection of a nuclear decay process.\n",
    "There are naturally occuring atomic nuclei in nature that are not \"stable\". Some of these\n",
    "nuclei end up in [products](https://www.thoughtco.com/how-radioactive-is-fiesta-ware-608648) that \n",
    "you may have [encountered](http://large.stanford.edu/courses/2011/ph241/eason1/) in your daily life.\n",
    "Others can be applied in medical treatments or diagnostic equipment. You could write a program\n",
    "that measures the time between pulses from a Gieger-Muller Tube (GMT) exposed to a radioactive source.\n",
    "\n",
    "You could, for example, vary the distance to the source and see the effect on the count rate.\n",
    "\n",
    "The output of the GMT is normally 5V. When the GMT detects a particle it will emit a short pulse on its output pin during which the pin voltage drops momentarily to zero, and then quickly, back to 5V. We can set up an \"interrupt\" routine on the Arduino that runs only when this event occurs. You can \"attach\" an interrupt routine to a particular hardware event using \"[attachInterrupt](https://www.arduino.cc/reference/en/language/functions/external-interrupts/attachinterrupt/)\" like so:\n",
    "\n",
    "    attachInterrupt(digitalPinToInterrupt(pin number), ISR function name, interrupt mode);\n",
    "    \n",
    "Please [see the link](https://www.arduino.cc/reference/en/language/functions/external-interrupts/attachinterrupt/) for details, and an example.\n",
    "    \n",
    "Suppose we want to count every time a falling edge pulse comes in on pin 3. We could set this up with:\n",
    "\n",
    "    attachInterrupt(digitalPinToInterrupt(3), myFunc, FALLING);\n",
    "    \n",
    "so long as somewhere (earlier) in the program we declared:\n",
    "\n",
    "    volatile unsigned long count;\n",
    "\n",
    "    void myFunc() {\n",
    "        count++;\n",
    "    }\n",
    "\n",
    "then, in the loop() function we could say:\n",
    "\n",
    "    void loop() {\n",
    "        delay(1000);\n",
    "        Serial.print(millis());\n",
    "        Serial.print(\",\");\n",
    "        Serial.println(count);\n",
    "    }\n",
    "    \n",
    "and the program would print the 'current' count every second or so.\n",
    "\n",
    "Deliverable: Use `attachInterrupt` to count something interesting. Surprise me!"
   ]
  }
 ],
 "metadata": {
  "kernelspec": {
   "display_name": "Python 3",
   "language": "python",
   "name": "python3"
  },
  "language_info": {
   "codemirror_mode": {
    "name": "ipython",
    "version": 3
   },
   "file_extension": ".py",
   "mimetype": "text/x-python",
   "name": "python",
   "nbconvert_exporter": "python",
   "pygments_lexer": "ipython3",
   "version": "3.6.4"
  }
 },
 "nbformat": 4,
 "nbformat_minor": 2
}
