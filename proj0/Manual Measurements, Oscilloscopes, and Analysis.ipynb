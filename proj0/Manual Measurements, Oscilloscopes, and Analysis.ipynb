{
 "cells": [
  {
   "cell_type": "markdown",
   "metadata": {},
   "source": [
    "Characterizing An Unknown Component Manually\n",
    "----------------------------------------------------------\n",
    "\n",
    "Suppose you were given a new electronic component with two wires and you were asked\n",
    "to measure its behavior. How would you do it? You might consider a circuit like this:\n",
    "\n",
    "![Unknown](imgs/unknown.png)\n",
    "\n",
    "You could monitor the current with an idea current meter, and set the voltage with an ideal voltate supply.\n",
    "\n",
    "Unfortunately you'd probably relaize that we don't have any ideal current meters handy, (though we do have very nearly ideal voltage sources!). How could we measure the current accurately without putting a current meter inline with the component? After a bit of thought you might come up with this idea:\n",
    "\n",
    "![Unknows_wR](imgs/unknown_wR.png)\n",
    "\n",
    "How does that help? Note that if you *know* the resistance of the resistor, and you can *measure* the voltage at either end of that resistor, you can use Ohm's law to deduce the current flow! Easy! OK, so let's do it. You can go to [tinkercad](https://tinkercad.com) and create a circuit like this:\n",
    "\n",
    "![Tinker](imgs/tinker.png)\n",
    "\n",
    "\n",
    "\n",
    "\n"
   ]
  },
  {
   "cell_type": "code",
   "execution_count": null,
   "metadata": {},
   "outputs": [],
   "source": []
  }
 ],
 "metadata": {
  "kernelspec": {
   "display_name": "Python 3",
   "language": "python",
   "name": "python3"
  },
  "language_info": {
   "codemirror_mode": {
    "name": "ipython",
    "version": 3
   },
   "file_extension": ".py",
   "mimetype": "text/x-python",
   "name": "python",
   "nbconvert_exporter": "python",
   "pygments_lexer": "ipython3",
   "version": "3.7.3"
  }
 },
 "nbformat": 4,
 "nbformat_minor": 2
}
