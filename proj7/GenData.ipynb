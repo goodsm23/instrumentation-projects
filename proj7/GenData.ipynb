{
 "cells": [
  {
   "cell_type": "code",
   "execution_count": null,
   "metadata": {},
   "outputs": [],
   "source": [
    "#\n",
    "# create some plausible data for exercise\n",
    "#\n",
    "\n",
    "r0=6400*1000 # m (radius of Earth)\n",
    "hm=10*1000   # m (high mountain)\n",
    "h=2          # drop height (2m stick)\n",
    "r = np.linspace(r0,r0+hm,100)\n",
    "Me = 6e24    # kg\n",
    "G = 6.67e-11 # N m^2/kg^2\n",
    "\n",
    "g = Me*G/r**2\n",
    "t = np.sqrt(2*h/g)\n",
    "\n",
    "pl.plot(r-r0,t)\n",
    "pl.grid()\n",
    "\n",
    "hs = np.array([0, 2000, 4000, 6000, 8000, 10000])\n",
    "gs = Me*G/(r0+hs)**2\n",
    "ts = np.sqrt(2*h/gs) + np.random.normal(size=len(hs))*0.001\n",
    "\n",
    "pl.plot(hs,ts,'b.')\n",
    "\n",
    "df = pd.DataFrame({'t':np.round(ts,3), 'y':hs})\n",
    "print(df.to_csv())\n",
    "\n",
    "\n"
   ]
  }
 ],
 "metadata": {
  "kernelspec": {
   "display_name": "Python 3",
   "language": "python",
   "name": "python3"
  },
  "language_info": {
   "codemirror_mode": {
    "name": "ipython",
    "version": 3
   },
   "file_extension": ".py",
   "mimetype": "text/x-python",
   "name": "python",
   "nbconvert_exporter": "python",
   "pygments_lexer": "ipython3",
   "version": "3.6.4"
  }
 },
 "nbformat": 4,
 "nbformat_minor": 2
}
