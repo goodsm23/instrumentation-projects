{
 "cells": [
  {
   "cell_type": "markdown",
   "metadata": {},
   "source": [
    "# PID Control & Motors\n",
    "\n",
    "This week we'll be learning about controlling systems with feedback (including systems with electrical motors!). We're goign to start with servo motors since they're the simplest. Consider the following Arduino Code[1, simplified version Sparkfun Inventors Kit v4.0, Servo Project]:\n",
    "\n",
    "    #include <Servo.h>   //include the servo library\n",
    "\n",
    "    int potPosition;     //this variable will store the position of the potentiometer\n",
    "    int servoPosition;   //the servo will move to this position\n",
    "\n",
    "    Servo myservo;       //create a servo object\n",
    "\n",
    "    void setup() {\n",
    "\n",
    "      myservo.attach(9); //tell the servo object that its servo is plugged into pin 9\n",
    "\n",
    "    }\n",
    "\n",
    "    void loop() {\n",
    "\n",
    "        //use analog read to measure the position of the potentiometer (0-1023)\n",
    "\n",
    "        potPosition = analogRead(A0);        \n",
    "      \n",
    "        //convert the potentiometer number to a servo position from 20-160\n",
    "        //Note: its best to avoid driving the little SIK servos all the \n",
    "        //way to 0 or 180 degrees it can cause the motor to jitter, which is bad for the servo.\n",
    "\n",
    "        servoPosition = map(potPosition, 0,1023,20,160);\n",
    "\n",
    "        myservo.write(servoPosition); //move the servo to the 10 degree position\n",
    "    }\n",
    "\n",
    "Build this program and attach a 0-5V potentiometer on A0 and the servo control line on pin 9. The servo-motor will also need power, which you can take from Vin and GND of the RedBoard.\n",
    "\n",
    "Use the oscilloscope to study the behavior of the control line as you adjust the potentiometer and witness the motion of the servo. What changes about the pulses driving the control line as you adjust the voltage on pin A0?\n",
    "\n",
    "There is a significant complexity buried in the \"servo\" object here (FYI you can find the servo object implementation under the Arduino Application 'libraries' folder). Let's dig in a bit deeper and implement this same functionality on the Cypress 5LP board.\n",
    "\n",
    "We'll need to use an ADC (Analog to Digital Converter) and a PWM (Pulse Width Modulation) output.\n",
    "\n",
    "[1] You can get the original code [From Sparkfun](https://learn.sparkfun.com/tutorials/sparkfun-inventors-kit-experiment-guide---v40/circuit-3a-servo-motors).\n",
    "\n"
   ]
  },
  {
   "cell_type": "code",
   "execution_count": null,
   "metadata": {},
   "outputs": [],
   "source": []
  }
 ],
 "metadata": {
  "kernelspec": {
   "display_name": "Python 3",
   "language": "python",
   "name": "python3"
  },
  "language_info": {
   "codemirror_mode": {
    "name": "ipython",
    "version": 3
   },
   "file_extension": ".py",
   "mimetype": "text/x-python",
   "name": "python",
   "nbconvert_exporter": "python",
   "pygments_lexer": "ipython3",
   "version": "3.6.4"
  }
 },
 "nbformat": 4,
 "nbformat_minor": 2
}
